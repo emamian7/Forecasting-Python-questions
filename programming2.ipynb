{
 "cells": [
  {
   "cell_type": "code",
   "execution_count": 1,
   "metadata": {},
   "outputs": [
    {
     "data": {
      "text/plain": [
       "'\\nQ19\\nPlease use Python to complete this assignment. Please submit your Jupyter notebook, showing your functions and unit test cases with the code and outputs.\\n--------------------------------------------------------------------------------------\\n\\nUse the hsbdemo.csv data set from UCLA. \\n\\n(\"https://stats.idre.ucla.edu/stat/data/hsbdemo.csv\")\\na. Input dataframe (df)\\nb. a vector of column names that list the quantitative variables to be analyzed.\\nc. a vector called funs, that describe the type of summaries to perform (see below by the list of summaries to perform)\\nd. and a group by variable that would allow the end user to condition out these statistics by levels of a categorical variable.\\n\\n“funs” arguments:\\n“sum”, “mean”, “max”, “min”\\n\\nThe function should return a data frame with appropriately named fields\\n\\nWe are looking for:\\n•\\tCoding efficiency - how easy it is to read the code\\n•\\tPerformance - how fast it runs against large datasets\\n•\\tRobustness – how easy is it to break the function call\\n•\\tAccuracy – does it produce the correct the results.\\n'"
      ]
     },
     "execution_count": 1,
     "metadata": {},
     "output_type": "execute_result"
    }
   ],
   "source": [
    "\"\"\"\n",
    "Q19\n",
    "Please use Python to complete this assignment. Please submit your Jupyter notebook, showing your functions and unit test cases with the code and outputs.\n",
    "--------------------------------------------------------------------------------------\n",
    "\n",
    "Use the hsbdemo.csv data set from UCLA. \n",
    "\n",
    "(\"https://stats.idre.ucla.edu/stat/data/hsbdemo.csv\")\n",
    "a. Input dataframe (df)\n",
    "b. a vector of column names that list the quantitative variables to be analyzed.\n",
    "c. a vector called funs, that describe the type of summaries to perform (see below by the list of summaries to perform)\n",
    "d. and a group by variable that would allow the end user to condition out these statistics by levels of a categorical variable.\n",
    "\n",
    "“funs” arguments:\n",
    "“sum”, “mean”, “max”, “min”\n",
    "\n",
    "The function should return a data frame with appropriately named fields\n",
    "\n",
    "We are looking for:\n",
    "•\tCoding efficiency - how easy it is to read the code\n",
    "•\tPerformance - how fast it runs against large datasets\n",
    "•\tRobustness – how easy is it to break the function call\n",
    "•\tAccuracy – does it produce the correct the results.\n",
    "\"\"\""
   ]
  },
  {
   "cell_type": "code",
   "execution_count": 2,
   "metadata": {},
   "outputs": [],
   "source": [
    "# Imports\n",
    "import pandas as pd\n",
    "# Display options\n",
    "pd.set_option('display.max_columns', 15)\n",
    "pd.set_option('display.width', 1000)"
   ]
  },
  {
   "cell_type": "code",
   "execution_count": 3,
   "metadata": {},
   "outputs": [
    {
     "name": "stdout",
     "output_type": "stream",
     "text": [
      "    female     ses  schtyp      prog  read  write  math  science  socst        honors  awards  cid\n",
      "id                                                                                                \n",
      "1   female     low  public  vocation    34     44    40       39     41  not enrolled       0    1\n",
      "2   female  middle  public  vocation    39     41    33       42     41  not enrolled       0    1\n",
      "3     male     low  public  academic    63     65    48       63     56      enrolled       5   16\n",
      "4   female     low  public  academic    44     50    41       39     51  not enrolled       1    3\n",
      "5     male     low  public  academic    47     40    43       45     31  not enrolled       0    4\n",
      "6   female     low  public  academic    47     41    46       40     41  not enrolled       0    3\n",
      "7     male  middle  public  academic    57     54    59       47     51  not enrolled       1   11\n",
      "8   female     low  public  academic    39     44    52       44     48  not enrolled       0    5\n",
      "9     male  middle  public  vocation    48     49    52       44     51  not enrolled       0    7\n",
      "10  female  middle  public   general    47     54    49       53     61  not enrolled       1    9\n"
     ]
    }
   ],
   "source": [
    "#Part a.\n",
    "#Second column's identifier indicates a boolean datatype but is not the case...\n",
    "df = pd.read_csv(\"https://stats.idre.ucla.edu/stat/data/hsbdemo.csv\", index_col=['id'])\n",
    "print(df.sort_index().head(10))"
   ]
  },
  {
   "cell_type": "code",
   "execution_count": 4,
   "metadata": {},
   "outputs": [
    {
     "data": {
      "text/html": [
       "<div>\n",
       "<style scoped>\n",
       "    .dataframe tbody tr th:only-of-type {\n",
       "        vertical-align: middle;\n",
       "    }\n",
       "\n",
       "    .dataframe tbody tr th {\n",
       "        vertical-align: top;\n",
       "    }\n",
       "\n",
       "    .dataframe thead th {\n",
       "        text-align: right;\n",
       "    }\n",
       "</style>\n",
       "<table border=\"1\" class=\"dataframe\">\n",
       "  <thead>\n",
       "    <tr style=\"text-align: right;\">\n",
       "      <th></th>\n",
       "      <th>read</th>\n",
       "      <th>write</th>\n",
       "      <th>math</th>\n",
       "      <th>science</th>\n",
       "      <th>socst</th>\n",
       "      <th>awards</th>\n",
       "      <th>cid</th>\n",
       "    </tr>\n",
       "    <tr>\n",
       "      <th>id</th>\n",
       "      <th></th>\n",
       "      <th></th>\n",
       "      <th></th>\n",
       "      <th></th>\n",
       "      <th></th>\n",
       "      <th></th>\n",
       "      <th></th>\n",
       "    </tr>\n",
       "  </thead>\n",
       "  <tbody>\n",
       "    <tr>\n",
       "      <th>45</th>\n",
       "      <td>34</td>\n",
       "      <td>35</td>\n",
       "      <td>41</td>\n",
       "      <td>29</td>\n",
       "      <td>26</td>\n",
       "      <td>0</td>\n",
       "      <td>1</td>\n",
       "    </tr>\n",
       "    <tr>\n",
       "      <th>108</th>\n",
       "      <td>34</td>\n",
       "      <td>33</td>\n",
       "      <td>41</td>\n",
       "      <td>36</td>\n",
       "      <td>36</td>\n",
       "      <td>0</td>\n",
       "      <td>1</td>\n",
       "    </tr>\n",
       "    <tr>\n",
       "      <th>15</th>\n",
       "      <td>39</td>\n",
       "      <td>39</td>\n",
       "      <td>44</td>\n",
       "      <td>26</td>\n",
       "      <td>42</td>\n",
       "      <td>0</td>\n",
       "      <td>1</td>\n",
       "    </tr>\n",
       "    <tr>\n",
       "      <th>67</th>\n",
       "      <td>37</td>\n",
       "      <td>37</td>\n",
       "      <td>42</td>\n",
       "      <td>33</td>\n",
       "      <td>32</td>\n",
       "      <td>0</td>\n",
       "      <td>1</td>\n",
       "    </tr>\n",
       "    <tr>\n",
       "      <th>153</th>\n",
       "      <td>39</td>\n",
       "      <td>31</td>\n",
       "      <td>40</td>\n",
       "      <td>39</td>\n",
       "      <td>51</td>\n",
       "      <td>0</td>\n",
       "      <td>1</td>\n",
       "    </tr>\n",
       "  </tbody>\n",
       "</table>\n",
       "</div>"
      ],
      "text/plain": [
       "     read  write  math  science  socst  awards  cid\n",
       "id                                                 \n",
       "45     34     35    41       29     26       0    1\n",
       "108    34     33    41       36     36       0    1\n",
       "15     39     39    44       26     42       0    1\n",
       "67     37     37    42       33     32       0    1\n",
       "153    39     31    40       39     51       0    1"
      ]
     },
     "execution_count": 4,
     "metadata": {},
     "output_type": "execute_result"
    }
   ],
   "source": [
    "#Part b.\n",
    "#I like using the undocumented function _get_numeric_data(), select_dtypes() is an alternative\n",
    "numericData = df._get_numeric_data()\n",
    "numericVariableNames = list(numericData.columns)\n",
    "numericData.head()"
   ]
  },
  {
   "cell_type": "code",
   "execution_count": 5,
   "metadata": {},
   "outputs": [],
   "source": [
    "#Part c.\n",
    "funs = ['sum', 'mean', 'max', 'min'] #we can also define our own functions if we'd like\n",
    "\n",
    "#Part d. \n",
    "groupVar = 'female'"
   ]
  },
  {
   "cell_type": "code",
   "execution_count": 6,
   "metadata": {},
   "outputs": [
    {
     "name": "stdout",
     "output_type": "stream",
     "text": [
      "female             female         male\n",
      "read    sum   5639.000000  4807.000000\n",
      "        mean    51.733945    52.824176\n",
      "        max     76.000000    76.000000\n",
      "        min     28.000000    31.000000\n",
      "write   sum   5994.000000  4561.000000\n",
      "        mean    54.990826    50.120879\n",
      "        max     67.000000    67.000000\n",
      "        min     35.000000    31.000000\n",
      "math    sum   5711.000000  4818.000000\n",
      "        mean    52.394495    52.945055\n",
      "        max     72.000000    75.000000\n",
      "        min     33.000000    35.000000\n",
      "science sum   5526.000000  4844.000000\n",
      "        mean    50.697248    53.230769\n",
      "        max     69.000000    74.000000\n",
      "        min     29.000000    26.000000\n",
      "socst   sum   5768.000000  4713.000000\n",
      "        mean    52.917431    51.791209\n",
      "        max     71.000000    71.000000\n",
      "        min     26.000000    26.000000\n",
      "awards  sum    214.000000   120.000000\n",
      "        mean     1.963303     1.318681\n",
      "        max      7.000000     7.000000\n",
      "        min      0.000000     0.000000\n",
      "cid     sum   1143.000000   943.000000\n",
      "        mean    10.486239    10.362637\n",
      "        max     20.000000    20.000000\n",
      "        min      1.000000     1.000000\n",
      "\n",
      "Avg. Awards Won by Females: 1.963302752293578\n",
      "Avg. Awards Won by Males: 1.3186813186813187\n"
     ]
    }
   ],
   "source": [
    "#Now suppose we want do group by the gender of the students, and see the statistical summaries on the numeric data...\n",
    "\n",
    "results = df.groupby(groupVar)[numericVariableNames].agg(funs)\n",
    "print(results.T) #printing transpose of results for readability\n",
    "\n",
    "#It seems like in this data set, some of the anomalies are that women win 1.5 times the amount of awards that males do, \n",
    "#even though men have on average higher scores across reading, writing, math, science, and social studies.\n",
    "print('\\nAvg. Awards Won by Females:', results.loc['female', 'awards']['mean'])\n",
    "print('Avg. Awards Won by Males:', results.loc['male', 'awards']['mean'])"
   ]
  },
  {
   "cell_type": "code",
   "execution_count": 64,
   "metadata": {},
   "outputs": [
    {
     "data": {
      "text/plain": [
       "'\\n20\\nUse the data set Binary_classification.zip (attached):\\nTo build a binary classification model.  Assume that all the columns apart from the target can be used as features to predict the target. \\n \\nCarry out the following steps and answer the questions as you go along.\\n \\na)     Build a predictive model that best fits the data (according to you). What is the evidence that the model hasn’t under or over fitted?\\nb)     What was your choice of evaluation metric and why?\\nc)     Justify your choice of your learning algorithm. What are the pros and cons of the algorithm you chose\\n'"
      ]
     },
     "execution_count": 64,
     "metadata": {},
     "output_type": "execute_result"
    }
   ],
   "source": [
    "\"\"\"\n",
    "20\n",
    "Use the data set Binary_classification.zip (attached):\n",
    "To build a binary classification model.  Assume that all the columns apart from the target can be used as features to predict the target. \n",
    " \n",
    "Carry out the following steps and answer the questions as you go along.\n",
    " \n",
    "a)     Build a predictive model that best fits the data (according to you). What is the evidence that the model hasn’t under or over fitted?\n",
    "b)     What was your choice of evaluation metric and why?\n",
    "c)     Justify your choice of your learning algorithm. What are the pros and cons of the algorithm you chose\n",
    "\"\"\""
   ]
  },
  {
   "cell_type": "code",
   "execution_count": 71,
   "metadata": {},
   "outputs": [
    {
     "data": {
      "text/html": [
       "<div>\n",
       "<style scoped>\n",
       "    .dataframe tbody tr th:only-of-type {\n",
       "        vertical-align: middle;\n",
       "    }\n",
       "\n",
       "    .dataframe tbody tr th {\n",
       "        vertical-align: top;\n",
       "    }\n",
       "\n",
       "    .dataframe thead th {\n",
       "        text-align: right;\n",
       "    }\n",
       "</style>\n",
       "<table border=\"1\" class=\"dataframe\">\n",
       "  <thead>\n",
       "    <tr style=\"text-align: right;\">\n",
       "      <th></th>\n",
       "      <th>col_24</th>\n",
       "      <th>col_263</th>\n",
       "      <th>col_264</th>\n",
       "      <th>col_214</th>\n",
       "      <th>col_39</th>\n",
       "      <th>col_280</th>\n",
       "      <th>col_140</th>\n",
       "      <th>...</th>\n",
       "      <th>col_17</th>\n",
       "      <th>col_259</th>\n",
       "      <th>col_247</th>\n",
       "      <th>col_287</th>\n",
       "      <th>col_990</th>\n",
       "      <th>col_991</th>\n",
       "      <th>target</th>\n",
       "    </tr>\n",
       "    <tr>\n",
       "      <th>id</th>\n",
       "      <th></th>\n",
       "      <th></th>\n",
       "      <th></th>\n",
       "      <th></th>\n",
       "      <th></th>\n",
       "      <th></th>\n",
       "      <th></th>\n",
       "      <th></th>\n",
       "      <th></th>\n",
       "      <th></th>\n",
       "      <th></th>\n",
       "      <th></th>\n",
       "      <th></th>\n",
       "      <th></th>\n",
       "      <th></th>\n",
       "    </tr>\n",
       "  </thead>\n",
       "  <tbody>\n",
       "    <tr>\n",
       "      <th>484858</th>\n",
       "      <td>0.998527</td>\n",
       "      <td>0</td>\n",
       "      <td>0</td>\n",
       "      <td>0</td>\n",
       "      <td>0.250000</td>\n",
       "      <td>0</td>\n",
       "      <td>0.011236</td>\n",
       "      <td>...</td>\n",
       "      <td>0.153846</td>\n",
       "      <td>0</td>\n",
       "      <td>0</td>\n",
       "      <td>0</td>\n",
       "      <td>16</td>\n",
       "      <td>-1</td>\n",
       "      <td>0</td>\n",
       "    </tr>\n",
       "    <tr>\n",
       "      <th>241714</th>\n",
       "      <td>0.999966</td>\n",
       "      <td>0</td>\n",
       "      <td>0</td>\n",
       "      <td>0</td>\n",
       "      <td>0.191176</td>\n",
       "      <td>0</td>\n",
       "      <td>0.000000</td>\n",
       "      <td>...</td>\n",
       "      <td>0.076923</td>\n",
       "      <td>0</td>\n",
       "      <td>0</td>\n",
       "      <td>1</td>\n",
       "      <td>12</td>\n",
       "      <td>-1</td>\n",
       "      <td>0</td>\n",
       "    </tr>\n",
       "    <tr>\n",
       "      <th>198733</th>\n",
       "      <td>0.998017</td>\n",
       "      <td>0</td>\n",
       "      <td>1</td>\n",
       "      <td>0</td>\n",
       "      <td>0.176471</td>\n",
       "      <td>0</td>\n",
       "      <td>0.112360</td>\n",
       "      <td>...</td>\n",
       "      <td>0.230769</td>\n",
       "      <td>0</td>\n",
       "      <td>0</td>\n",
       "      <td>0</td>\n",
       "      <td>11</td>\n",
       "      <td>-1</td>\n",
       "      <td>0</td>\n",
       "    </tr>\n",
       "    <tr>\n",
       "      <th>106045</th>\n",
       "      <td>0.000000</td>\n",
       "      <td>0</td>\n",
       "      <td>0</td>\n",
       "      <td>0</td>\n",
       "      <td>0.102941</td>\n",
       "      <td>0</td>\n",
       "      <td>0.022472</td>\n",
       "      <td>...</td>\n",
       "      <td>0.000000</td>\n",
       "      <td>0</td>\n",
       "      <td>0</td>\n",
       "      <td>0</td>\n",
       "      <td>6</td>\n",
       "      <td>-1</td>\n",
       "      <td>0</td>\n",
       "    </tr>\n",
       "    <tr>\n",
       "      <th>28242</th>\n",
       "      <td>0.997506</td>\n",
       "      <td>0</td>\n",
       "      <td>0</td>\n",
       "      <td>0</td>\n",
       "      <td>0.058824</td>\n",
       "      <td>0</td>\n",
       "      <td>0.011236</td>\n",
       "      <td>...</td>\n",
       "      <td>0.153846</td>\n",
       "      <td>0</td>\n",
       "      <td>0</td>\n",
       "      <td>0</td>\n",
       "      <td>3</td>\n",
       "      <td>-1</td>\n",
       "      <td>0</td>\n",
       "    </tr>\n",
       "    <tr>\n",
       "      <th>92314</th>\n",
       "      <td>0.000000</td>\n",
       "      <td>0</td>\n",
       "      <td>0</td>\n",
       "      <td>0</td>\n",
       "      <td>0.294118</td>\n",
       "      <td>0</td>\n",
       "      <td>0.011236</td>\n",
       "      <td>...</td>\n",
       "      <td>0.000000</td>\n",
       "      <td>0</td>\n",
       "      <td>0</td>\n",
       "      <td>0</td>\n",
       "      <td>19</td>\n",
       "      <td>-1</td>\n",
       "      <td>0</td>\n",
       "    </tr>\n",
       "    <tr>\n",
       "      <th>403297</th>\n",
       "      <td>0.996514</td>\n",
       "      <td>0</td>\n",
       "      <td>0</td>\n",
       "      <td>0</td>\n",
       "      <td>0.191176</td>\n",
       "      <td>0</td>\n",
       "      <td>0.011236</td>\n",
       "      <td>...</td>\n",
       "      <td>0.307692</td>\n",
       "      <td>0</td>\n",
       "      <td>0</td>\n",
       "      <td>0</td>\n",
       "      <td>12</td>\n",
       "      <td>-1</td>\n",
       "      <td>0</td>\n",
       "    </tr>\n",
       "    <tr>\n",
       "      <th>273801</th>\n",
       "      <td>0.994517</td>\n",
       "      <td>0</td>\n",
       "      <td>0</td>\n",
       "      <td>0</td>\n",
       "      <td>0.220588</td>\n",
       "      <td>0</td>\n",
       "      <td>0.000000</td>\n",
       "      <td>...</td>\n",
       "      <td>0.230769</td>\n",
       "      <td>0</td>\n",
       "      <td>0</td>\n",
       "      <td>0</td>\n",
       "      <td>14</td>\n",
       "      <td>-1</td>\n",
       "      <td>0</td>\n",
       "    </tr>\n",
       "    <tr>\n",
       "      <th>224845</th>\n",
       "      <td>0.000000</td>\n",
       "      <td>0</td>\n",
       "      <td>0</td>\n",
       "      <td>0</td>\n",
       "      <td>0.470588</td>\n",
       "      <td>0</td>\n",
       "      <td>0.011236</td>\n",
       "      <td>...</td>\n",
       "      <td>0.000000</td>\n",
       "      <td>0</td>\n",
       "      <td>0</td>\n",
       "      <td>0</td>\n",
       "      <td>31</td>\n",
       "      <td>-1</td>\n",
       "      <td>0</td>\n",
       "    </tr>\n",
       "    <tr>\n",
       "      <th>278384</th>\n",
       "      <td>0.994016</td>\n",
       "      <td>0</td>\n",
       "      <td>0</td>\n",
       "      <td>0</td>\n",
       "      <td>0.220588</td>\n",
       "      <td>0</td>\n",
       "      <td>0.011236</td>\n",
       "      <td>...</td>\n",
       "      <td>0.076923</td>\n",
       "      <td>0</td>\n",
       "      <td>0</td>\n",
       "      <td>1</td>\n",
       "      <td>14</td>\n",
       "      <td>-1</td>\n",
       "      <td>0</td>\n",
       "    </tr>\n",
       "  </tbody>\n",
       "</table>\n",
       "<p>10 rows × 103 columns</p>\n",
       "</div>"
      ],
      "text/plain": [
       "          col_24  col_263  col_264  col_214    col_39  col_280   col_140  ...    col_17  col_259  col_247  col_287  col_990  col_991  target\n",
       "id                                                                        ...                                                               \n",
       "484858  0.998527        0        0        0  0.250000        0  0.011236  ...  0.153846        0        0        0       16       -1       0\n",
       "241714  0.999966        0        0        0  0.191176        0  0.000000  ...  0.076923        0        0        1       12       -1       0\n",
       "198733  0.998017        0        1        0  0.176471        0  0.112360  ...  0.230769        0        0        0       11       -1       0\n",
       "106045  0.000000        0        0        0  0.102941        0  0.022472  ...  0.000000        0        0        0        6       -1       0\n",
       "28242   0.997506        0        0        0  0.058824        0  0.011236  ...  0.153846        0        0        0        3       -1       0\n",
       "92314   0.000000        0        0        0  0.294118        0  0.011236  ...  0.000000        0        0        0       19       -1       0\n",
       "403297  0.996514        0        0        0  0.191176        0  0.011236  ...  0.307692        0        0        0       12       -1       0\n",
       "273801  0.994517        0        0        0  0.220588        0  0.000000  ...  0.230769        0        0        0       14       -1       0\n",
       "224845  0.000000        0        0        0  0.470588        0  0.011236  ...  0.000000        0        0        0       31       -1       0\n",
       "278384  0.994016        0        0        0  0.220588        0  0.011236  ...  0.076923        0        0        1       14       -1       0\n",
       "\n",
       "[10 rows x 103 columns]"
      ]
     },
     "execution_count": 71,
     "metadata": {},
     "output_type": "execute_result"
    }
   ],
   "source": [
    "data = pd.read_csv('binary_classification_ds.csv', index_col=['id'])\n",
    "data.head(10)"
   ]
  },
  {
   "cell_type": "code",
   "execution_count": 76,
   "metadata": {},
   "outputs": [
    {
     "name": "stdout",
     "output_type": "stream",
     "text": [
      "           count      mean       std  min       25%       50%       75%  max\n",
      "col_24   50000.0  0.524521  0.497946  0.0  0.000000  0.993550  0.997541  1.0\n",
      "col_263  50000.0  0.000040  0.006324  0.0  0.000000  0.000000  0.000000  1.0\n",
      "col_264  50000.0  0.060380  0.238192  0.0  0.000000  0.000000  0.000000  1.0\n",
      "col_214  50000.0  0.013480  0.115319  0.0  0.000000  0.000000  0.000000  1.0\n",
      "col_39   50000.0  0.216541  0.158685  0.0  0.088235  0.191176  0.323529  1.0\n",
      "col_280  50000.0  0.001800  0.042389  0.0  0.000000  0.000000  0.000000  1.0\n",
      "col_140  50000.0  0.023029  0.068912  0.0  0.011236  0.011236  0.011236  1.0\n",
      "col_328  50000.0  0.007780  0.087861  0.0  0.000000  0.000000  0.000000  1.0\n",
      "col_309  50000.0  0.199420  0.399568  0.0  0.000000  0.000000  0.000000  1.0\n",
      "col_201  50000.0  0.006580  0.080851  0.0  0.000000  0.000000  0.000000  1.0\n"
     ]
    },
    {
     "data": {
      "text/plain": [
       "<matplotlib.axes._subplots.AxesSubplot at 0x2054f2936a0>"
      ]
     },
     "execution_count": 76,
     "metadata": {},
     "output_type": "execute_result"
    },
    {
     "data": {
      "image/png": "[encoded data removed]",
      "text/plain": [
       "<Figure size 432x288 with 2 Axes>"
      ]
     },
     "metadata": {
      "needs_background": "light"
     },
     "output_type": "display_data"
    }
   ],
   "source": [
    "print(data.describe().T.head(10))\n",
    "#perhaps we should normalize?\n",
    "\n",
    "import seaborn as sns\n",
    "# plot the correlation heatmap\n",
    "sns.heatmap(data.corr(), \n",
    "        xticklabels=data.columns,\n",
    "        yticklabels=data.columns)\n",
    "\n",
    "#the variables seem to be mostly uncorrelated"
   ]
  },
  {
   "cell_type": "code",
   "execution_count": 73,
   "metadata": {},
   "outputs": [],
   "source": [
    "#normalizing data\n",
    "from sklearn.preprocessing import StandardScaler\n",
    "scaler = StandardScaler()\n",
    "scaler.fit(data.iloc[:,:-1])\n",
    "features_norm = pd.DataFrame(scaler.transform(data.iloc[:,:-1]), index=data.index, columns=data.columns[:-1])\n",
    "print(features_norm.describe().T.head(10))"
   ]
  },
  {
   "cell_type": "code",
   "execution_count": 74,
   "metadata": {},
   "outputs": [],
   "source": [
    "# Imports\n",
    "import pandas as pd\n",
    "import numpy as np\n",
    "from sklearn.model_selection import KFold\n",
    "from sklearn.linear_model import LogisticRegression\n",
    "from sklearn.neighbors import KNeighborsClassifier\n",
    "from sklearn import svm\n",
    "from sklearn.metrics import precision_score, recall_score, f1_score, roc_auc_score"
   ]
  },
  {
   "cell_type": "code",
   "execution_count": null,
   "metadata": {},
   "outputs": [
    {
     "name": "stdout",
     "output_type": "stream",
     "text": [
      "LogisticRegression\n",
      "                   LogisticRegression\n",
      "Avg. Precision               0.583478\n",
      "Avg. Recall                  0.500242\n",
      "Avg. F1 Score                0.492162\n",
      "Avg. ROC AUC Score           0.500242\n",
      "KNN\n",
      "                         KNN\n",
      "Avg. Precision      0.491161\n",
      "Avg. Recall         0.499964\n",
      "Avg. F1 Score       0.492017\n",
      "Avg. ROC AUC Score  0.499964\n",
      "SVM\n"
     ]
    },
    {
     "name": "stderr",
     "output_type": "stream",
     "text": [
      "C:\\Users\\Witcher\\Anaconda3\\lib\\site-packages\\sklearn\\metrics\\_classification.py:1221: UndefinedMetricWarning: Precision is ill-defined and being set to 0.0 in labels with no predicted samples. Use `zero_division` parameter to control this behavior.\n",
      "  _warn_prf(average, modifier, msg_start, len(result))\n",
      "C:\\Users\\Witcher\\Anaconda3\\lib\\site-packages\\sklearn\\metrics\\_classification.py:1221: UndefinedMetricWarning: Precision is ill-defined and being set to 0.0 in labels with no predicted samples. Use `zero_division` parameter to control this behavior.\n",
      "  _warn_prf(average, modifier, msg_start, len(result))\n",
      "C:\\Users\\Witcher\\Anaconda3\\lib\\site-packages\\sklearn\\metrics\\_classification.py:1221: UndefinedMetricWarning: Precision is ill-defined and being set to 0.0 in labels with no predicted samples. Use `zero_division` parameter to control this behavior.\n",
      "  _warn_prf(average, modifier, msg_start, len(result))\n"
     ]
    }
   ],
   "source": [
    "X = features_norm.values\n",
    "y = data['target'].values\n",
    "\n",
    "d_classifiers = {'LogisticRegression': LogisticRegression(max_iter=1000),\n",
    "                'KNN': KNeighborsClassifier(n_neighbors=5),\n",
    "                'SVM': svm.SVC(kernel='linear')}\n",
    "\n",
    "metrics = {'Avg. Precision':precision_score,\n",
    "           'Avg. Recall':recall_score,\n",
    "           'Avg. F1 Score': f1_score,\n",
    "           'Avg. ROC AUC Score':roc_auc_score}\n",
    "\n",
    "results = pd.DataFrame(index=metrics, columns=d_classifiers.keys())\n",
    "\n",
    "for classifier in d_classifiers.keys():\n",
    "    print(classifier)\n",
    "    clf = d_classifiers[classifier]\n",
    "    \n",
    "    #K-fold cross-validation and average metrics\n",
    "    kf = KFold(n_splits=5, shuffle=False)\n",
    "    metricsForKFolds = {}\n",
    "    for train_index, test_index in kf.split(X):\n",
    "        \n",
    "        X_train, X_test = X[train_index], X[test_index]\n",
    "        y_train, y_test = y[train_index], y[test_index]\n",
    "        clf_fitted = clf.fit(X_train,y_train)\n",
    "        y_pred = clf_fitted.predict(X_test)\n",
    "        #print(pd.concat([pd.DataFrame(y_pred), pd.DataFrame(y_test)],axis=1))\n",
    "        \n",
    "        #compute and store every performance metric on test\n",
    "        for metric in metrics.keys():\n",
    "            func = metrics[metric]\n",
    "            metricValue = func(y_test, y_pred, average=\"macro\")\n",
    "            try:\n",
    "                metricsForKFolds[metric].append(metricValue)\n",
    "            except KeyError:\n",
    "                metricsForKFolds[metric] = [metricValue]\n",
    "                \n",
    "    for metric in metrics.keys():\n",
    "        results.loc[metric, classifier] = np.mean(metricsForKFolds[metric])\n",
    "    print(results[[classifier]])\n",
    "        \n",
    "results"
   ]
  },
  {
   "cell_type": "code",
   "execution_count": null,
   "metadata": {},
   "outputs": [],
   "source": [
    "\"\"\"\n",
    "Q21\n",
    "The following data set contains 2 sets of forecasts (“champion” and “challenger”) for the # of monthly sales achieved by a Brand for each of its primary sales channels from July 2017 through June 2018.  \n",
    "\n",
    "The # of monthly sales that the Brand actually achieved is also provided.\n",
    "(also attached in compressed file)\n",
    "\n",
    "Create a visualization (or set of visualizations) which compares the 2 forecasts so that the consumer of the visualization can determine which forecasting model is performing better.   \n",
    "\n",
    "Assume that the consumer of the visualization is a non-technical marketing colleague without any data science training or background.\n",
    "\"\"\""
   ]
  },
  {
   "cell_type": "code",
   "execution_count": 47,
   "metadata": {},
   "outputs": [
    {
     "data": {
      "text/html": [
       "<div>\n",
       "<style scoped>\n",
       "    .dataframe tbody tr th:only-of-type {\n",
       "        vertical-align: middle;\n",
       "    }\n",
       "\n",
       "    .dataframe tbody tr th {\n",
       "        vertical-align: top;\n",
       "    }\n",
       "\n",
       "    .dataframe thead th {\n",
       "        text-align: right;\n",
       "    }\n",
       "</style>\n",
       "<table border=\"1\" class=\"dataframe\">\n",
       "  <thead>\n",
       "    <tr style=\"text-align: right;\">\n",
       "      <th></th>\n",
       "      <th>market</th>\n",
       "      <th>channel</th>\n",
       "      <th>actual sales</th>\n",
       "      <th>challenger forecast</th>\n",
       "      <th>champion forecast</th>\n",
       "    </tr>\n",
       "    <tr>\n",
       "      <th>date</th>\n",
       "      <th></th>\n",
       "      <th></th>\n",
       "      <th></th>\n",
       "      <th></th>\n",
       "      <th></th>\n",
       "    </tr>\n",
       "  </thead>\n",
       "  <tbody>\n",
       "    <tr>\n",
       "      <th>7/1/2017</th>\n",
       "      <td>USA</td>\n",
       "      <td>Channel A</td>\n",
       "      <td>3773</td>\n",
       "      <td>3226</td>\n",
       "      <td>3877</td>\n",
       "    </tr>\n",
       "    <tr>\n",
       "      <th>7/1/2017</th>\n",
       "      <td>USA</td>\n",
       "      <td>Channel B</td>\n",
       "      <td>1779</td>\n",
       "      <td>1787</td>\n",
       "      <td>1514</td>\n",
       "    </tr>\n",
       "    <tr>\n",
       "      <th>7/1/2017</th>\n",
       "      <td>USA</td>\n",
       "      <td>Channel C</td>\n",
       "      <td>18454</td>\n",
       "      <td>20346</td>\n",
       "      <td>21124</td>\n",
       "    </tr>\n",
       "    <tr>\n",
       "      <th>8/1/2017</th>\n",
       "      <td>USA</td>\n",
       "      <td>Channel A</td>\n",
       "      <td>3498</td>\n",
       "      <td>3233</td>\n",
       "      <td>4488</td>\n",
       "    </tr>\n",
       "    <tr>\n",
       "      <th>8/1/2017</th>\n",
       "      <td>USA</td>\n",
       "      <td>Channel B</td>\n",
       "      <td>2057</td>\n",
       "      <td>1991</td>\n",
       "      <td>1834</td>\n",
       "    </tr>\n",
       "    <tr>\n",
       "      <th>8/1/2017</th>\n",
       "      <td>USA</td>\n",
       "      <td>Channel C</td>\n",
       "      <td>16081</td>\n",
       "      <td>21824</td>\n",
       "      <td>21142</td>\n",
       "    </tr>\n",
       "    <tr>\n",
       "      <th>9/1/2017</th>\n",
       "      <td>USA</td>\n",
       "      <td>Channel A</td>\n",
       "      <td>3175</td>\n",
       "      <td>3340</td>\n",
       "      <td>3824</td>\n",
       "    </tr>\n",
       "    <tr>\n",
       "      <th>9/1/2017</th>\n",
       "      <td>USA</td>\n",
       "      <td>Channel B</td>\n",
       "      <td>1594</td>\n",
       "      <td>1428</td>\n",
       "      <td>1575</td>\n",
       "    </tr>\n",
       "    <tr>\n",
       "      <th>9/1/2017</th>\n",
       "      <td>USA</td>\n",
       "      <td>Channel C</td>\n",
       "      <td>12737</td>\n",
       "      <td>11407</td>\n",
       "      <td>19448</td>\n",
       "    </tr>\n",
       "    <tr>\n",
       "      <th>10/1/2017</th>\n",
       "      <td>USA</td>\n",
       "      <td>Channel A</td>\n",
       "      <td>3656</td>\n",
       "      <td>3478</td>\n",
       "      <td>3852</td>\n",
       "    </tr>\n",
       "  </tbody>\n",
       "</table>\n",
       "</div>"
      ],
      "text/plain": [
       "          market    channel  actual sales  challenger forecast  champion forecast\n",
       "date                                                                             \n",
       "7/1/2017     USA  Channel A          3773                 3226               3877\n",
       "7/1/2017     USA  Channel B          1779                 1787               1514\n",
       "7/1/2017     USA  Channel C         18454                20346              21124\n",
       "8/1/2017     USA  Channel A          3498                 3233               4488\n",
       "8/1/2017     USA  Channel B          2057                 1991               1834\n",
       "8/1/2017     USA  Channel C         16081                21824              21142\n",
       "9/1/2017     USA  Channel A          3175                 3340               3824\n",
       "9/1/2017     USA  Channel B          1594                 1428               1575\n",
       "9/1/2017     USA  Channel C         12737                11407              19448\n",
       "10/1/2017    USA  Channel A          3656                 3478               3852"
      ]
     },
     "execution_count": 47,
     "metadata": {},
     "output_type": "execute_result"
    }
   ],
   "source": [
    "data = pd.read_csv('forecast2.csv', skiprows=[0,1], header=None, thousands=',')\n",
    "data.columns = ['date', 'market', 'channel', 'actual sales', 'challenger forecast', 'champion forecast']\n",
    "data.set_index('date', inplace=True)\n",
    "data.head(10)"
   ]
  },
  {
   "cell_type": "code",
   "execution_count": 60,
   "metadata": {},
   "outputs": [
    {
     "data": {
      "text/plain": [
       "<matplotlib.axes._subplots.AxesSubplot at 0x20549812630>"
      ]
     },
     "execution_count": 60,
     "metadata": {},
     "output_type": "execute_result"
    },
    {
     "data": {
      "image/png": "[encoded data removed]",
      "text/plain": [
       "<Figure size 432x288 with 1 Axes>"
      ]
     },
     "metadata": {
      "needs_background": "light"
     },
     "output_type": "display_data"
    }
   ],
   "source": [
    "import matplotlib.pyplot as plt\n",
    "\n",
    "#cumulative difference from actual sales\n",
    "data['abs(champion - actual)'] = (data['champion forecast'] - data['actual sales']).abs()\n",
    "data['abs(challenger - actual)'] = (data['challenger forecast'] - data['actual sales']).abs()\n",
    "\n",
    "data['abs(champion - actual)'].cumsum().plot(legend=True)\n",
    "data['abs(challenger - actual)'].cumsum().plot(legend=True)"
   ]
  },
  {
   "cell_type": "code",
   "execution_count": 59,
   "metadata": {},
   "outputs": [
    {
     "data": {
      "text/plain": [
       "<matplotlib.legend.Legend at 0x205497d3518>"
      ]
     },
     "execution_count": 59,
     "metadata": {},
     "output_type": "execute_result"
    },
    {
     "data": {
      "image/png": "[encoded data removed]",
      "text/plain": [
       "<Figure size 432x288 with 1 Axes>"
      ]
     },
     "metadata": {
      "needs_background": "light"
     },
     "output_type": "display_data"
    }
   ],
   "source": [
    "#scatterplots of forecast vs. realized and their best fit lines\n",
    "x = data['champion forecast']\n",
    "y = data['actual sales']\n",
    "\n",
    "plt.figure(0)\n",
    "plt.scatter(x, y, label='champion forecast vs. actual sales')\n",
    "plt.plot(np.unique(x), np.poly1d(np.polyfit(x, y, 1))(np.unique(x)))\n",
    "\n",
    "x = data['challenger forecast']\n",
    "y = data['actual sales']\n",
    "\n",
    "plt.scatter(x, y, label='challenger forecast vs. actual sales')\n",
    "plt.plot(np.unique(x), np.poly1d(np.polyfit(x, y, 1))(np.unique(x)))\n",
    "\n",
    "plt.legend(loc=\"upper left\")"
   ]
  },
  {
   "cell_type": "code",
   "execution_count": 62,
   "metadata": {},
   "outputs": [
    {
     "data": {
      "text/plain": [
       "<matplotlib.axes._subplots.AxesSubplot at 0x2054989b588>"
      ]
     },
     "execution_count": 62,
     "metadata": {},
     "output_type": "execute_result"
    },
    {
     "data": {
      "image/png": "[encoded data removed]",
      "text/plain": [
       "<Figure size 432x288 with 1 Axes>"
      ]
     },
     "metadata": {
      "needs_background": "light"
     },
     "output_type": "display_data"
    }
   ],
   "source": [
    "#plot probability density functions of both forecasts and realized\n",
    "data['actual sales'].plot(kind='density', legend=True)\n",
    "data['champion forecast'].plot(kind='density', legend=True)\n",
    "data['challenger forecast'].plot(kind='density', legend=True)"
   ]
  },
  {
   "cell_type": "code",
   "execution_count": null,
   "metadata": {},
   "outputs": [],
   "source": []
  }
 ],
 "metadata": {
  "kernelspec": {
   "display_name": "Python 3",
   "language": "python",
   "name": "python3"
  },
  "language_info": {
   "codemirror_mode": {
    "name": "ipython",
    "version": 3
   },
   "file_extension": ".py",
   "mimetype": "text/x-python",
   "name": "python",
   "nbconvert_exporter": "python",
   "pygments_lexer": "ipython3",
   "version": "3.7.3"
  }
 },
 "nbformat": 4,
 "nbformat_minor": 2
}
